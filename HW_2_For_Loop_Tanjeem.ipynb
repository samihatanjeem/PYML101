{
 "cells": [
  {
   "cell_type": "code",
   "execution_count": 2,
   "id": "b25203c8-f562-4719-ac70-ea87d123e6fe",
   "metadata": {},
   "outputs": [
    {
     "name": "stdin",
     "output_type": "stream",
     "text": [
      "Attempt 1/4 Guess the number between 1 and 25:  2\n"
     ]
    },
    {
     "name": "stdout",
     "output_type": "stream",
     "text": [
      "Too low! Try again.\n"
     ]
    },
    {
     "name": "stdin",
     "output_type": "stream",
     "text": [
      "Attempt 2/4 Guess the number between 1 and 25:  16\n"
     ]
    },
    {
     "name": "stdout",
     "output_type": "stream",
     "text": [
      "Too high! Try again.\n"
     ]
    },
    {
     "name": "stdin",
     "output_type": "stream",
     "text": [
      "Attempt 3/4 Guess the number between 1 and 25:  10\n"
     ]
    },
    {
     "name": "stdout",
     "output_type": "stream",
     "text": [
      "Too low! Try again.\n"
     ]
    },
    {
     "name": "stdin",
     "output_type": "stream",
     "text": [
      "Attempt 4/4 Guess the number between 1 and 25:  11\n"
     ]
    },
    {
     "name": "stdout",
     "output_type": "stream",
     "text": [
      "Too low! Try again.\n",
      "Sorry! You’ve used all 4 attempts. The correct number was 12.\n"
     ]
    }
   ],
   "source": [
    "#This program lets the user guess a randomly chosen number.\n",
    "from  random import randint \n",
    "\n",
    "#Randomly generating a number between 1 and 25\n",
    "chosen_number= randint(1,25)\n",
    "\n",
    "#Allowing the user 4 attempts to guess the number\n",
    "for attempt in range(1, 5): \n",
    "    user_input= int(input(f\"Attempt {attempt}/4 Guess the number between 1 and 25: \"))\n",
    "\n",
    "    #Providing feedback\n",
    "    if user_input == chosen_number:\n",
    "        print(f\" Congratulations! You guessed the {chosen_number} in {attempt} attempts. \")\n",
    "        break\n",
    "    elif user_input < chosen_number:\n",
    "        print(\"Too low! Try again.\")\n",
    "    else:\n",
    "        print(\"Too high! Try again.\")\n",
    "  \n",
    "else:\n",
    "    print(f\"Sorry! You’ve used all 4 attempts. The correct number was {chosen_number}.\")\n",
    "    "
   ]
  },
  {
   "cell_type": "code",
   "execution_count": null,
   "id": "d893a6d7-9317-4997-8f7b-77c3f2fc7e65",
   "metadata": {},
   "outputs": [],
   "source": []
  }
 ],
 "metadata": {
  "kernelspec": {
   "display_name": "Python [conda env:base] *",
   "language": "python",
   "name": "conda-base-py"
  },
  "language_info": {
   "codemirror_mode": {
    "name": "ipython",
    "version": 3
   },
   "file_extension": ".py",
   "mimetype": "text/x-python",
   "name": "python",
   "nbconvert_exporter": "python",
   "pygments_lexer": "ipython3",
   "version": "3.12.7"
  }
 },
 "nbformat": 4,
 "nbformat_minor": 5
}
