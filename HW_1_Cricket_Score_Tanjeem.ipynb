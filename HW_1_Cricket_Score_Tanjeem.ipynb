{
 "cells": [
  {
   "cell_type": "code",
   "execution_count": 35,
   "id": "881cfb2c-acfa-4698-91da-9617a0b268f6",
   "metadata": {},
   "outputs": [
    {
     "name": "stdin",
     "output_type": "stream",
     "text": [
      "Please enter total runs scored (1-299):  280\n",
      "Please enter overs faced (0<overs<=20):  16\n",
      "Please enter wickets lost (1-10):  8\n"
     ]
    }
   ],
   "source": [
    "#Prompting input for the user\n",
    "runs= int(input(\"Please enter total runs scored (1-299): \"))\n",
    "overs= float(input(\"Please enter overs faced (0<overs<=20): \"))\n",
    "wickets= int(input(\"Please enter wickets lost (1-10): \"))"
   ]
  },
  {
   "cell_type": "code",
   "execution_count": 51,
   "id": "a8fad897-395e-41b8-aac3-a2436969c714",
   "metadata": {},
   "outputs": [],
   "source": [
    "#Calculating the Run Rate\n",
    "run_rate= runs / overs\n",
    "if overs> 0:\n",
    "    run_rate= runs/ overs\n",
    "else:\n",
    "    print(\"Oops! Overs must be > 0.\")\n",
    "    run_rate= None "
   ]
  },
  {
   "cell_type": "code",
   "execution_count": 60,
   "id": "26be3714-71a0-4750-abd8-ea2bbd4cb79e",
   "metadata": {},
   "outputs": [
    {
     "name": "stdout",
     "output_type": "stream",
     "text": [
      "Run Rate: 17.50 (Explosive)\n"
     ]
    }
   ],
   "source": [
    "#Classifying the Run Rate\n",
    "if run_rate is not None:\n",
    "    if run_rate >= 8:\n",
    "        run_rate_type = \"Explosive\"\n",
    "    elif run_rate >= 5:\n",
    "        run_rate_type = \"Steady\"\n",
    "    else:\n",
    "        run_rate_type = \"Slow\"\n",
    "print(f\"Run Rate: {run_rate:.2f} ({run_rate_type})\")"
   ]
  },
  {
   "cell_type": "code",
   "execution_count": 62,
   "id": "e8834fdc-4722-4afb-b3dd-27257c3570d9",
   "metadata": {},
   "outputs": [
    {
     "name": "stdout",
     "output_type": "stream",
     "text": [
      "Wickets Lost: 8 (Collapse)\n"
     ]
    }
   ],
   "source": [
    "#Classifying the Wickets lost\n",
    "if wickets >= 10:\n",
    "    wickets_type = \"All Out\"\n",
    "elif wickets >= 5:\n",
    "    wickets_type = \"Collapse\"\n",
    "else:\n",
    "    wickets_type = \"Stable\"\n",
    "print(f\"Wickets Lost: {wickets} ({wickets_type})\") "
   ]
  },
  {
   "cell_type": "code",
   "execution_count": 64,
   "id": "c3d45a30-45c7-4b64-9c23-c41a8952f9be",
   "metadata": {},
   "outputs": [
    {
     "name": "stdout",
     "output_type": "stream",
     "text": [
      "\n",
      "Match Summary:\n",
      "Run Rate: 17.50 (Explosive)\n",
      "Wickets Lost: 8 (Collapse)\n"
     ]
    }
   ],
   "source": [
    "#Printing the summary \n",
    "if run_rate is not None:\n",
    "    print(\"\\nMatch Summary:\")\n",
    "    print(f\"Run Rate: {run_rate:.2f} ({run_rate_type})\")\n",
    "    print(f\"Wickets Lost: {wickets} ({wickets_type})\")"
   ]
  }
 ],
 "metadata": {
  "kernelspec": {
   "display_name": "Python [conda env:base] *",
   "language": "python",
   "name": "conda-base-py"
  },
  "language_info": {
   "codemirror_mode": {
    "name": "ipython",
    "version": 3
   },
   "file_extension": ".py",
   "mimetype": "text/x-python",
   "name": "python",
   "nbconvert_exporter": "python",
   "pygments_lexer": "ipython3",
   "version": "3.12.7"
  }
 },
 "nbformat": 4,
 "nbformat_minor": 5
}
