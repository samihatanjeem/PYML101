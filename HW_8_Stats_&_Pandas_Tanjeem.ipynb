{
 "cells": [
  {
   "cell_type": "code",
   "execution_count": 4,
   "id": "de0cfff2-8446-4536-832a-3c521cb726b8",
   "metadata": {},
   "outputs": [
    {
     "name": "stdout",
     "output_type": "stream",
     "text": [
      "T-statistic: -3.637102279462759\n",
      "P-value: 0.0002953669077629579\n",
      "There is a significant difference between men and women.\n"
     ]
    }
   ],
   "source": [
    "# Q-1\n",
    "#Step 1: Importing pandas\n",
    "import pandas as pd\n",
    "from scipy.stats import ttest_ind\n",
    "\n",
    "#Step 2: Loading data into DataFrame\n",
    "df = pd.read_csv(\"members_Tanjeem.csv\")\n",
    "\n",
    "#Step 3: Converting date columns\n",
    "df['visitDate'] = pd.to_datetime(df['visitDate'])\n",
    "df['endDate'] = pd.to_datetime(df['endDate'])\n",
    "\n",
    "#Step 4: Filtering \"inactive\" status members\n",
    "inactive = df[df['status'] == 'inactive'].copy()\n",
    "\n",
    "#Step 5: Displaying how long someone stayed (in months)\n",
    "inactive['months'] = (inactive['endDate'].dt.year - inactive['visitDate'].dt.year) * 12 + \\\n",
    "                     (inactive['endDate'].dt.month - inactive['visitDate'].dt.month)\n",
    "\n",
    "#Step 6: Separating men and women\n",
    "men = inactive[inactive['gender'] == 'M']['months']\n",
    "women = inactive[inactive['gender'] == 'F']['months']\n",
    "\n",
    "#Step 7: Running a t-test to see if there is a difference\n",
    "t_stat, p_val = ttest_ind(men, women)\n",
    "print(\"T-statistic:\", t_stat)\n",
    "print(\"P-value:\", p_val)\n",
    "\n",
    "#Step 8: Interpret\n",
    "if p_val < 0.05:\n",
    "    print(\"There is a significant difference between men and women.\")\n",
    "else:\n",
    "    print(\"There is NO significant difference between men and women.\")\n"
   ]
  },
  {
   "cell_type": "code",
   "execution_count": 5,
   "id": "47f4be19-d77d-4d52-a967-a95cbfd6dd8b",
   "metadata": {},
   "outputs": [
    {
     "data": {
      "image/png": "[encoded data removed]",
      "text/plain": [
       "<Figure size 640x480 with 1 Axes>"
      ]
     },
     "metadata": {},
     "output_type": "display_data"
    },
    {
     "name": "stdout",
     "output_type": "stream",
     "text": [
      "Skewness: -0.10086668016451043\n",
      "Kurtosis: 6.619254082806862\n",
      "Normality Test p-value: 5.866465781918973e-40\n",
      "Returns are NOT normally distributed.\n",
      "Extreme return days (more than ±3 std):\n",
      "          Date  daily_return\n",
      "20  2017-02-01      0.060975\n",
      "463 2018-11-02     -0.066324\n",
      "498 2018-12-26      0.070414\n",
      "503 2019-01-03     -0.099602\n",
      "521 2019-01-30      0.068335\n",
      "592 2019-05-13     -0.058122\n",
      "792 2020-02-27     -0.065373\n",
      "794 2020-03-02      0.093104\n",
      "799 2020-03-09     -0.079092\n",
      "800 2020-03-10      0.072021\n",
      "802 2020-03-12     -0.098750\n",
      "803 2020-03-13      0.119804\n",
      "804 2020-03-16     -0.128650\n",
      "808 2020-03-20     -0.063488\n",
      "810 2020-03-24      0.100331\n",
      "819 2020-04-06      0.087235\n",
      "900 2020-07-31      0.104690\n",
      "924 2020-09-03     -0.080059\n",
      "926 2020-09-08     -0.067296\n",
      "950 2020-10-12      0.063522\n",
      "964 2020-10-30     -0.056021\n"
     ]
    }
   ],
   "source": [
    "# Q-2\n",
    "#Step 1: Importing libraries\n",
    "import pandas as pd\n",
    "import matplotlib.pyplot as plt\n",
    "from scipy.stats import skew, kurtosis, normaltest\n",
    "\n",
    "#Step 2: Loading data into DataFrame\n",
    "df = pd.read_csv(\"ORNG1_Tanjeem.csv\")\n",
    "\n",
    "#Step 3: Convert and sort date column\n",
    "df['Date'] = pd.to_datetime(df['Date'])\n",
    "df = df.sort_values('Date')\n",
    "\n",
    "#Step 4: Calculating daily return\n",
    "df['daily_return'] = df['AdjustedClose'].pct_change()\n",
    "\n",
    "#Step 5: Plotting a histogram of daily returns\n",
    "df['daily_return'].hist(bins=50)\n",
    "plt.title(\"Histogram of ORNG Daily Returns\")\n",
    "plt.xlabel(\"Daily Return\")\n",
    "plt.ylabel(\"Frequency\")\n",
    "plt.show()\n",
    "\n",
    "#Step 6: Calculating Skewness and Kurtosis\n",
    "print(\"Skewness:\", skew(df['daily_return'].dropna()))\n",
    "print(\"Kurtosis:\", kurtosis(df['daily_return'].dropna()))\n",
    "\n",
    "#Step 7: Normality Test\n",
    "stat, p = normaltest(df['daily_return'].dropna())\n",
    "print(\"Normality Test p-value:\", p)\n",
    "\n",
    "if p < 0.05:\n",
    "    print(\"Returns are NOT normally distributed.\")\n",
    "else:\n",
    "    print(\"Returns look normal.\")\n",
    "\n",
    "\n",
    "#Step 8: Calculating mean and std\n",
    "mean = df['daily_return'].mean()\n",
    "std = df['daily_return'].std()\n",
    "\n",
    "#Step 9: Filtering extreme values\n",
    "outliers = df[(df['daily_return'] > mean + 3*std) |\n",
    "              (df['daily_return'] < mean - 3*std)]\n",
    "\n",
    "#Step 10: Showing results\n",
    "print(\"Extreme return days (more than ±3 std):\")\n",
    "print(outliers[['Date', 'daily_return']])\n"
   ]
  },
  {
   "cell_type": "code",
   "execution_count": null,
   "id": "4ac473a3-22d4-46d3-a72b-afc1d9801e2b",
   "metadata": {},
   "outputs": [],
   "source": []
  }
 ],
 "metadata": {
  "kernelspec": {
   "display_name": "Python [conda env:base] *",
   "language": "python",
   "name": "conda-base-py"
  },
  "language_info": {
   "codemirror_mode": {
    "name": "ipython",
    "version": 3
   },
   "file_extension": ".py",
   "mimetype": "text/x-python",
   "name": "python",
   "nbconvert_exporter": "python",
   "pygments_lexer": "ipython3",
   "version": "3.12.7"
  }
 },
 "nbformat": 4,
 "nbformat_minor": 5
}
