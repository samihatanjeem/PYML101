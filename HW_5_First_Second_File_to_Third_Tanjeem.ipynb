{
 "cells": [
  {
   "cell_type": "code",
   "execution_count": 1,
   "id": "c0ca1980-451c-4a25-807a-e77309f3c0a8",
   "metadata": {},
   "outputs": [],
   "source": [
    "def load_numbers(filename):\n",
    "    nums = []\n",
    "    with open(filename, \"r\") as f:\n",
    "        for line in f:\n",
    "        \n",
    "            for token in line.strip().split(\",\"):\n",
    "                token = token.strip()\n",
    "                if token:\n",
    "                    nums.append(int(token))\n",
    "    return nums\n",
    "\n",
    "first_numbers  = load_numbers(\"First_Tanjeem.txt\")\n",
    "second_numbers = load_numbers(\"Second_Tanjeem.txt\")"
   ]
  },
  {
   "cell_type": "code",
   "execution_count": 7,
   "id": "b67b2b3d-9e27-4cf9-89c2-d2e75df79e77",
   "metadata": {},
   "outputs": [
    {
     "name": "stdout",
     "output_type": "stream",
     "text": [
      "Processing complete. Check Third_Tanjeem.txt for results.\n"
     ]
    }
   ],
   "source": [
    "#Create Third.txt to write the results\n",
    "with open(\"Third_Tanjeem.txt\", \"w\") as f_out:\n",
    "    for first_num in first_numbers:\n",
    "        \n",
    "    #Dividing each number from First.txt        \n",
    "        f_out.write(f\"For the number {first_num} we have:\\n\")\n",
    "        results = []\n",
    "        \n",
    "    #Dividing each number from Second.txt and calculating remainder        \n",
    "        for second_num in second_numbers:\n",
    "            try:\n",
    "                remainder = first_num % second_num\n",
    "                results.append(str(remainder))\n",
    "                \n",
    "    #Check if divisor is zero to prevent exceptions\n",
    "            except ZeroDivisionError:\n",
    "                results.append(\"Divide by 0 encountered\")\n",
    "    #Computing the results to Third.txt file        \n",
    "        f_out.write(\", \".join(results) + \"\\n\\n\")\n",
    "\n",
    "print(\"Processing complete. Check Third_Tanjeem.txt for results.\")"
   ]
  },
  {
   "cell_type": "code",
   "execution_count": null,
   "id": "01422475-3011-46a5-8072-48104a9484d5",
   "metadata": {},
   "outputs": [],
   "source": []
  }
 ],
 "metadata": {
  "kernelspec": {
   "display_name": "Python [conda env:base] *",
   "language": "python",
   "name": "conda-base-py"
  },
  "language_info": {
   "codemirror_mode": {
    "name": "ipython",
    "version": 3
   },
   "file_extension": ".py",
   "mimetype": "text/x-python",
   "name": "python",
   "nbconvert_exporter": "python",
   "pygments_lexer": "ipython3",
   "version": "3.12.7"
  }
 },
 "nbformat": 4,
 "nbformat_minor": 5
}
