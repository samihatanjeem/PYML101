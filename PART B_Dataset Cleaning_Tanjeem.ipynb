{
 "cells": [
  {
   "cell_type": "code",
   "execution_count": 2,
   "id": "0ab861e0-19b1-405e-af4b-49d78d5790af",
   "metadata": {},
   "outputs": [],
   "source": [
    "import pandas as pd\n",
    "import numpy as np\n",
    "from sklearn.model_selection import train_test_split\n",
    "from sklearn.linear_model import LinearRegression\n",
    "from sklearn.metrics import r2_score"
   ]
  },
  {
   "cell_type": "code",
   "execution_count": 3,
   "id": "5796b2df-b92d-4036-85a0-caaf3a842ef3",
   "metadata": {},
   "outputs": [
    {
     "data": {
      "text/html": [
       "<div>\n",
       "<style scoped>\n",
       "    .dataframe tbody tr th:only-of-type {\n",
       "        vertical-align: middle;\n",
       "    }\n",
       "\n",
       "    .dataframe tbody tr th {\n",
       "        vertical-align: top;\n",
       "    }\n",
       "\n",
       "    .dataframe thead th {\n",
       "        text-align: right;\n",
       "    }\n",
       "</style>\n",
       "<table border=\"1\" class=\"dataframe\">\n",
       "  <thead>\n",
       "    <tr style=\"text-align: right;\">\n",
       "      <th></th>\n",
       "      <th>experience_ears</th>\n",
       "      <th>education_level</th>\n",
       "      <th>num_certifications</th>\n",
       "      <th>tech_score</th>\n",
       "      <th>communication_score</th>\n",
       "      <th>leadership_score</th>\n",
       "      <th>teamwork_score</th>\n",
       "      <th>prblm_solvng</th>\n",
       "      <th>projects_led</th>\n",
       "      <th>client_feedback</th>\n",
       "      <th>annual_salary</th>\n",
       "    </tr>\n",
       "  </thead>\n",
       "  <tbody>\n",
       "    <tr>\n",
       "      <th>0</th>\n",
       "      <td>19</td>\n",
       "      <td>2.0</td>\n",
       "      <td>3.0</td>\n",
       "      <td>59.21232364</td>\n",
       "      <td>61.272205</td>\n",
       "      <td>20.884042</td>\n",
       "      <td>69.107361</td>\n",
       "      <td>26.269763</td>\n",
       "      <td>12</td>\n",
       "      <td>3.816695</td>\n",
       "      <td>28444.02447</td>\n",
       "    </tr>\n",
       "    <tr>\n",
       "      <th>1</th>\n",
       "      <td>32</td>\n",
       "      <td>2.0</td>\n",
       "      <td>9.0</td>\n",
       "      <td>81.95179187</td>\n",
       "      <td>22.557994</td>\n",
       "      <td>19.679013</td>\n",
       "      <td>52.109618</td>\n",
       "      <td>4.471027</td>\n",
       "      <td>6</td>\n",
       "      <td>0.110700</td>\n",
       "      <td>36040.61839</td>\n",
       "    </tr>\n",
       "    <tr>\n",
       "      <th>2</th>\n",
       "      <td>35</td>\n",
       "      <td>2.0</td>\n",
       "      <td>7.0</td>\n",
       "      <td>82.53015623</td>\n",
       "      <td>90.465606</td>\n",
       "      <td>64.257992</td>\n",
       "      <td>97.693142</td>\n",
       "      <td>26.800898</td>\n",
       "      <td>8</td>\n",
       "      <td>2.632624</td>\n",
       "      <td>35508.44398</td>\n",
       "    </tr>\n",
       "    <tr>\n",
       "      <th>3</th>\n",
       "      <td>6</td>\n",
       "      <td>NaN</td>\n",
       "      <td>9.0</td>\n",
       "      <td>31.11206808</td>\n",
       "      <td>85.314532</td>\n",
       "      <td>2.413278</td>\n",
       "      <td>49.123878</td>\n",
       "      <td>66.172067</td>\n",
       "      <td>14</td>\n",
       "      <td>4.418793</td>\n",
       "      <td>10243.62441</td>\n",
       "    </tr>\n",
       "    <tr>\n",
       "      <th>4</th>\n",
       "      <td>27</td>\n",
       "      <td>NaN</td>\n",
       "      <td>4.0</td>\n",
       "      <td>65.87861177</td>\n",
       "      <td>30.659908</td>\n",
       "      <td>73.067201</td>\n",
       "      <td>74.999043</td>\n",
       "      <td>71.729068</td>\n",
       "      <td>0</td>\n",
       "      <td>4.111955</td>\n",
       "      <td>34315.16008</td>\n",
       "    </tr>\n",
       "  </tbody>\n",
       "</table>\n",
       "</div>"
      ],
      "text/plain": [
       "  experience_ears  education_level  num_certifications   tech_score  \\\n",
       "0              19              2.0                 3.0  59.21232364   \n",
       "1              32              2.0                 9.0  81.95179187   \n",
       "2              35              2.0                 7.0  82.53015623   \n",
       "3               6              NaN                 9.0  31.11206808   \n",
       "4              27              NaN                 4.0  65.87861177   \n",
       "\n",
       "   communication_score  leadership_score  teamwork_score  prblm_solvng  \\\n",
       "0            61.272205         20.884042       69.107361     26.269763   \n",
       "1            22.557994         19.679013       52.109618      4.471027   \n",
       "2            90.465606         64.257992       97.693142     26.800898   \n",
       "3            85.314532          2.413278       49.123878     66.172067   \n",
       "4            30.659908         73.067201       74.999043     71.729068   \n",
       "\n",
       "   projects_led  client_feedback  annual_salary  \n",
       "0            12         3.816695    28444.02447  \n",
       "1             6         0.110700    36040.61839  \n",
       "2             8         2.632624    35508.44398  \n",
       "3            14         4.418793    10243.62441  \n",
       "4             0         4.111955    34315.16008  "
      ]
     },
     "execution_count": 3,
     "metadata": {},
     "output_type": "execute_result"
    }
   ],
   "source": [
    "df = pd.read_csv('EmployeeSkills_NonNormalized_Extended_Tanjeem.csv')\n",
    "df.head(5)"
   ]
  },
  {
   "cell_type": "code",
   "execution_count": 4,
   "id": "83179a1f-89b5-44da-b1f3-b28f2e158692",
   "metadata": {},
   "outputs": [
    {
     "name": "stdout",
     "output_type": "stream",
     "text": [
      "Original data count: (415, 11)\n",
      "Count after cleaning data: (404, 11)\n",
      "Count after removal of outlier: (390, 11)\n"
     ]
    }
   ],
   "source": [
    "print(\"Original data count:\", df.shape)\n",
    "\n",
    "df.columns = (df.columns\n",
    "              .str.strip()\n",
    "              .str.lower()\n",
    "              .str.replace(' ', '_')\n",
    "              .str.replace(r'[^0-9a-z_]', '', regex=True))\n",
    "\n",
    "df.rename(columns={\n",
    "    'experience_ears': 'experience_years',\n",
    "    'prblm_solvng': 'problem_solving'\n",
    "}, inplace=True)\n",
    "\n",
    "text_to_num = {\n",
    "    'zero':0,'one':1,'two':2,'three':3,'four':4,'five':5,\n",
    "    'six':6,'seven':7,'eight':8,'nine':9,'ten':10\n",
    "}\n",
    "for col in df.select_dtypes(include=['object']).columns:\n",
    "    df[col] = df[col].replace(text_to_num)\n",
    "    df[col] = pd.to_numeric(df[col], errors= 'coerce')\n",
    "    \n",
    "df.dropna(inplace=True)\n",
    "\n",
    "print(\"Count after cleaning data:\", df.shape)\n",
    "\n",
    "for col in df.select_dtypes(include=[np.number]).columns:\n",
    "    Q1 = df[col].quantile(0.25)\n",
    "    Q3 = df[col].quantile(0.75)\n",
    "    IQR = Q3 - Q1\n",
    "    mask = df[col].between(Q1 - 1.5 * IQR, Q3 + 1.5 * IQR)\n",
    "    df = df[mask]\n",
    "\n",
    "print(\"Count after removal of outlier:\", df.shape)"
   ]
  },
  {
   "cell_type": "code",
   "execution_count": 5,
   "id": "78594c98-6542-4c4f-b7fa-edbf64b338d8",
   "metadata": {},
   "outputs": [
    {
     "name": "stdout",
     "output_type": "stream",
     "text": [
      "Regression model built using LinearRegression() on cleaned dataset with 80/20 split in training and testing.\n"
     ]
    }
   ],
   "source": [
    "x = df.drop('annual_salary', axis=1)\n",
    "y = df['annual_salary']\n",
    "\n",
    "x_train, x_test, y_train, y_test = train_test_split(\n",
    "    x, y, test_size=0.2, random_state=1\n",
    ")\n",
    "\n",
    "model = LinearRegression()\n",
    "model.fit(x_train, y_train)\n",
    "print(f\"Regression model built using {model} on cleaned dataset with 80/20 split in training and testing.\")"
   ]
  },
  {
   "cell_type": "code",
   "execution_count": 6,
   "id": "9e50a277-9482-4881-8f5a-15ff4c47c4ca",
   "metadata": {},
   "outputs": [
    {
     "name": "stdout",
     "output_type": "stream",
     "text": [
      "Test R² score: 0.8297\n",
      "– This means the model explains 82.97% of the variance in the annual salaries\n"
     ]
    }
   ],
   "source": [
    "y_pred = model.predict(x_test)\n",
    "r2 = r2_score(y_test, y_pred)\n",
    "print(f\"Test R² score: {r2:.4f}\")\n",
    "print(f\"– This means the model explains {r2*100:.2f}% of the variance in the annual salaries\")"
   ]
  }
 ],
 "metadata": {
  "kernelspec": {
   "display_name": "Python 3 (ipykernel)",
   "language": "python",
   "name": "python3"
  },
  "language_info": {
   "codemirror_mode": {
    "name": "ipython",
    "version": 3
   },
   "file_extension": ".py",
   "mimetype": "text/x-python",
   "name": "python",
   "nbconvert_exporter": "python",
   "pygments_lexer": "ipython3",
   "version": "3.12.7"
  }
 },
 "nbformat": 4,
 "nbformat_minor": 5
}
