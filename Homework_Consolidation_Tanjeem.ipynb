{
 "cells": [
  {
   "cell_type": "code",
   "execution_count": 1,
   "id": "6d17a644",
   "metadata": {},
   "outputs": [],
   "source": [
    "import json\n",
    "\n",
    "def menu():\n",
    "    HOMEWORKS = {\n",
    "        \"1\":  \"HW_1_Cricket_Score_Tanjeem.ipynb\",\n",
    "        \"2\":  \"HW_2_For_Loop_Tanjeem.ipynb\",\n",
    "        \"3\":  \"HW_3_Find_Remainder_Function_Tanjeem.ipynb\",\n",
    "        \"4\":  \"HW_4_Lists_with_0_Tanjeem.ipynb\",\n",
    "        \"5\":  \"HW_5_First_Second_File_to_Third_Tanjeem.ipynb\",\n",
    "        \"6\":  \"HW_6_Dictionary_List_Tanjeem.ipynb\",\n",
    "        \"7\":  \"HW_7_Pandas_Basics_Tanjeem.ipynb\",\n",
    "        \"8\":  \"HW_8_Stats_&_Pandas_Tanjeem.ipynb\",\n",
    "        \"9\":  \"HW_9_Data_Visualization_Tanjeem.ipynb\",\n",
    "        \"10\": \"HW_10_Address_Class_Tanjeem.ipynb\"\n",
    "    }\n",
    "    \n",
    "    print(\"\"\"\n",
    "    Menu:\n",
    "    1:  Cricket Score\n",
    "    2:  For Loop\n",
    "    3:  FindRemainder Function\n",
    "    4:  Lists with 0\n",
    "    5:  First Second File to Third\n",
    "    6:  Dictionary List\n",
    "    7:  Pandas Basics\n",
    "    8:  Stats & Pandas\n",
    "    9:  Data Visualization\n",
    "    10: Address Class\n",
    "    0:  Exit\n",
    "    \"\"\")\n",
    "    \n",
    "    return HOMEWORKS"
   ]
  },
  {
   "cell_type": "code",
   "execution_count": null,
   "id": "4ca0fdaf-4246-4f15-99a0-56d29e8867fb",
   "metadata": {},
   "outputs": [
    {
     "name": "stdout",
     "output_type": "stream",
     "text": [
      "\n",
      "    Menu:\n",
      "    1:  Cricket Score\n",
      "    2:  For Loop\n",
      "    3:  FindRemainder Function\n",
      "    4:  Lists with 0\n",
      "    5:  First Second File to Third\n",
      "    6:  Dictionary List\n",
      "    7:  Pandas Basics\n",
      "    8:  Stats & Pandas\n",
      "    9:  Data Visualization\n",
      "    10: Address Class\n",
      "    0:  Exit\n",
      "    \n"
     ]
    }
   ],
   "source": [
    "def main():\n",
    "    while True: \n",
    "        HOMEWORKS = menu()\n",
    "        choice = input(\"Please Enter Homework Number (1-10 or 0 to exit): \").strip()\n",
    "        if choice == '0':\n",
    "            print(\"Thank you for your interest. You chose to exit this program.\")\n",
    "            break\n",
    "        if choice not in HOMEWORKS:\n",
    "            print(\"Invalid input. Please enter a number between 0 and 10.\")\n",
    "            continue\n",
    "        get_ipython().run_line_magic('run', HOMEWORKS[choice])\n",
    "\n",
    "if __name__ == \"__main__\": \n",
    "    main()"
   ]
  }
 ],
 "metadata": {
  "kernelspec": {
   "display_name": "Python [conda env:base] *",
   "language": "python",
   "name": "conda-base-py"
  },
  "language_info": {
   "codemirror_mode": {
    "name": "ipython",
    "version": 3
   },
   "file_extension": ".py",
   "mimetype": "text/x-python",
   "name": "python",
   "nbconvert_exporter": "python",
   "pygments_lexer": "ipython3",
   "version": "3.12.7"
  }
 },
 "nbformat": 4,
 "nbformat_minor": 5
}
