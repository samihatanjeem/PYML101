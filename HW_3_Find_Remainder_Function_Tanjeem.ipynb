{
 "cells": [
  {
   "cell_type": "code",
   "execution_count": 23,
   "id": "49224a02-cb07-46f9-b219-9ec66830c8cc",
   "metadata": {},
   "outputs": [
    {
     "name": "stdout",
     "output_type": "stream",
     "text": [
      "Inside the Function, the Sum is: 35\n",
      "Inside the function, the Difference is: 25\n",
      "The sum of 20 and 15 is 35\n",
      "The difference between 35 and 10 is 25\n",
      "The original numbers are: 20 and 15\n",
      "\n",
      "Inside the Function, the Sum is: 75\n",
      "Inside the function, the Difference is: 65\n",
      "The sum of 50 and 25 is 75\n",
      "The difference between 75 and 10 is 65\n",
      "The original numbers are: 50 and 25\n",
      "\n",
      "Inside the Function, the Sum is: 125\n",
      "Inside the function, the Difference is: 95\n",
      "The sum of 75 and 50 is 125\n",
      "The difference between 125 and 30 is 95\n",
      "The original numbers are: 75 and 50\n",
      "\n",
      "Inside the Function, the Sum is: 130\n",
      "Inside the function, the Difference is: 80\n",
      "The sum of 100 and 30 is 130\n",
      "The difference between 130 and 50 is 80\n",
      "The original numbers are: 100 and 30\n",
      "\n"
     ]
    }
   ],
   "source": [
    "# Defining the FindSum function\n",
    "def FindSum(num1, num2):\n",
    "    result_sum = num1 + num2\n",
    "    print(f\"Inside the Function, the Sum is: {result_sum}\")\n",
    "    return result_sum\n",
    "\n",
    "# Defining the FindDifference function\n",
    "def FindDifference (result_sum, num3):\n",
    "    result_difference = result_sum - num3\n",
    "    print(f\"Inside the function, the Difference is: {result_difference}\")\n",
    "    return result_difference\n",
    "\n",
    "# Testing different cases\n",
    "test_cases = [\n",
    "    (20, 15, 10),\n",
    "    (50, 25, 10),\n",
    "    (75, 50, 30),\n",
    "    (100, 30, 50)\n",
    "]\n",
    "\n",
    "for num1, num2, num3 in test_cases:\n",
    "    result_sum = FindSum(num1, num2)\n",
    "    difference_result = FindDifference(result_sum, num3)\n",
    "    \n",
    "#Printing the final results\n",
    "    print(f\"The sum of {num1} and {num2} is {result_sum}\")\n",
    "    print(f\"The difference between {result_sum} and {num3} is {difference_result}\")\n",
    "    print(f\"The original numbers are: {num1} and {num2}\")\n",
    "    print()"
   ]
  },
  {
   "cell_type": "code",
   "execution_count": null,
   "id": "fd250af6-f5c7-407d-845b-56fc20e254a5",
   "metadata": {},
   "outputs": [],
   "source": []
  }
 ],
 "metadata": {
  "kernelspec": {
   "display_name": "Python [conda env:base] *",
   "language": "python",
   "name": "conda-base-py"
  },
  "language_info": {
   "codemirror_mode": {
    "name": "ipython",
    "version": 3
   },
   "file_extension": ".py",
   "mimetype": "text/x-python",
   "name": "python",
   "nbconvert_exporter": "python",
   "pygments_lexer": "ipython3",
   "version": "3.12.7"
  }
 },
 "nbformat": 4,
 "nbformat_minor": 5
}
