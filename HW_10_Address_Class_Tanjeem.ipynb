{
 "cells": [
  {
   "cell_type": "code",
   "execution_count": 18,
   "id": "04319435-ac41-435d-8347-8dbcfccebcdc",
   "metadata": {},
   "outputs": [
    {
     "name": "stdout",
     "output_type": "stream",
     "text": [
      "Address 1:\n",
      "123 Main St\n",
      "Beverly Hills, CA 90210\n",
      "\n",
      "Address 2:\n",
      "456 Elm St, Apt 7\n",
      "Small Town, NY 12345\n",
      "\n",
      "Address 1 does not come before Address 2 by zip code.\n"
     ]
    }
   ],
   "source": [
    "#Implementing a class called Address.\n",
    "class Address:\n",
    "    \n",
    "    #An Address contains a house number, street name, zip code, city, state, and optionally an apartment number.\n",
    "    def __init__(self, house_number, street_name, zip_code, city, state, apartment_number=None):\n",
    "        \n",
    "        #Included Encapsulation.\n",
    "        self._house_number = house_number          \n",
    "        self._street_name = street_name           \n",
    "        self._zip_code = zip_code                  \n",
    "        self._city = city                          \n",
    "        self._state = state                        \n",
    "        self._apartment_number = apartment_number       #(Optional)\n",
    "\n",
    "    #Implementing print_address method with the street on first line.\n",
    "    def print_address(self):\n",
    "        if self._apartment_number is not None:\n",
    "            print(f\"{self._house_number} {self._street_name}, Apt {self._apartment_number}\")\n",
    "        else:\n",
    "            print(f\"{self._house_number} {self._street_name}\")\n",
    "        \n",
    "        #Printing city, state, and zip code on the second line.\n",
    "        print(f\"{self._city}, {self._state} {self._zip_code}\")\n",
    "\n",
    "\n",
    "    \n",
    "#reating a method def comesBefore that compares the object's addresses.\n",
    "    def comesBefore(self, other):\n",
    "        return self._zip_code < other._zip_code\n",
    "\n",
    "if __name__ == \"__main__\":\n",
    "#Creating the first Address (without an apartment number) and print using print_address method.\n",
    "    address1 = Address(123, \"Main St\", \"90210\", \"Beverly Hills\", \"CA\")\n",
    "    \n",
    "    print(\"Address 1:\")\n",
    "    address1.print_address()\n",
    "    \n",
    "    print()\n",
    "\n",
    "#Creating the second Address (with an apartment number) and print using print_address method.\n",
    "    address2 = Address(456, \"Elm St\", \"12345\", \"Small Town\", \"NY\", apartment_number=7)\n",
    "    \n",
    "    print(\"Address 2:\")\n",
    "    address2.print_address()\n",
    "\n",
    "#Applying the comesBefore method to compare the zip code of first Address with second Address.\n",
    "    if address1.comesBefore(address2):\n",
    "        print(\"\\nAddress 1 comes before Address 2 by zip code.\")\n",
    "    else:\n",
    "        print(\"\\nAddress 1 does not come before Address 2 by zip code.\")\n"
   ]
  },
  {
   "cell_type": "code",
   "execution_count": null,
   "id": "fbad0cfb-b72c-4ce2-a291-f472935a9c3a",
   "metadata": {},
   "outputs": [],
   "source": []
  }
 ],
 "metadata": {
  "kernelspec": {
   "display_name": "Python [conda env:base] *",
   "language": "python",
   "name": "conda-base-py"
  },
  "language_info": {
   "codemirror_mode": {
    "name": "ipython",
    "version": 3
   },
   "file_extension": ".py",
   "mimetype": "text/x-python",
   "name": "python",
   "nbconvert_exporter": "python",
   "pygments_lexer": "ipython3",
   "version": "3.12.7"
  }
 },
 "nbformat": 4,
 "nbformat_minor": 5
}
