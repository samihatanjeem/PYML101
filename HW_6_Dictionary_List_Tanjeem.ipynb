{
 "cells": [
  {
   "cell_type": "code",
   "execution_count": 90,
   "id": "2732e823-ea6a-4247-8913-6f837733d1d4",
   "metadata": {},
   "outputs": [
    {
     "name": "stdout",
     "output_type": "stream",
     "text": [
      "Employee variables:\n",
      "[{'Name': 'John Mckee', 'Age': 38, 'Department': 'Sales'}, {'Name': 'Lisa Crawford', 'Age': 29, 'Department': 'Marketing'}, {'Name': 'Sujan Patel', 'Age': 33, 'Department': 'HR'}]\n",
      "\n",
      "Employee details:\n",
      "Name: John Mckee, Age: 38, Department: Sales\n",
      "Name: Lisa Crawford, Age: 29, Department: Marketing\n",
      "Name: Sujan Patel, Age: 33, Department: HR\n",
      "\n",
      "Details of Sujan Patel:\n",
      "\n",
      "Name: Sujan Patel, \n",
      "Age: 33, \n",
      "Department: HR\n"
     ]
    }
   ],
   "source": [
    "#Storing data of employees in a list containing dictionary objects\n",
    "employees = [\n",
    "    {\"Name\": \"John Mckee\", \"Age\": 38, \"Department\": \"Sales\"},\n",
    "    {\"Name\": \"Lisa Crawford\", \"Age\": 29, \"Department\": \"Marketing\"},\n",
    "    {\"Name\": \"Sujan Patel\", \"Age\": 33, \"Department\": \"HR\"}\n",
    "]\n",
    "#Printing employee variables\n",
    "print(\"Employee variables:\")\n",
    "print(employees)\n",
    "\n",
    "#Printing the employee details\n",
    "print(\"\\nEmployee details:\")\n",
    "for emp in employees:\n",
    "    print(f\"Name: {emp['Name']}, Age: {emp['Age']}, Department: {emp['Department']}\")\n",
    "\n",
    "#Printing Sujan Patel's details\n",
    "print(\"\\nDetails of Sujan Patel:\")\n",
    "for emp in employees:\n",
    "    if emp['Name'] == \"Sujan Patel\":\n",
    "        print(f\"\\nName: {emp['Name']}, \\nAge: {emp['Age']}, \\nDepartment: {emp['Department']}\")\n"
   ]
  },
  {
   "cell_type": "code",
   "execution_count": null,
   "id": "8b15da0b-ca8d-42d1-a44e-ec8f60c285ab",
   "metadata": {},
   "outputs": [],
   "source": []
  }
 ],
 "metadata": {
  "kernelspec": {
   "display_name": "Python [conda env:base] *",
   "language": "python",
   "name": "conda-base-py"
  },
  "language_info": {
   "codemirror_mode": {
    "name": "ipython",
    "version": 3
   },
   "file_extension": ".py",
   "mimetype": "text/x-python",
   "name": "python",
   "nbconvert_exporter": "python",
   "pygments_lexer": "ipython3",
   "version": "3.12.7"
  }
 },
 "nbformat": 4,
 "nbformat_minor": 5
}
