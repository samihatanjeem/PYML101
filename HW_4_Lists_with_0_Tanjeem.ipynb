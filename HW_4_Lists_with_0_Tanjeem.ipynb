{
 "cells": [
  {
   "cell_type": "code",
   "execution_count": 1,
   "id": "0e85b625-eeb2-468e-b5b5-663201c46e50",
   "metadata": {},
   "outputs": [
    {
     "name": "stdin",
     "output_type": "stream",
     "text": [
      "Please enter the number of sublists (between 2 and 6 inclusive):  3\n",
      "Please enter the number of elements (between 2 and 6 inclusive):  4\n",
      "Please enter an initialization value:  7\n"
     ]
    },
    {
     "name": "stdout",
     "output_type": "stream",
     "text": [
      "Nested list: [[7, 7, 7, 7], [7, 7, 7, 7], [7, 7, 7, 7]]\n"
     ]
    }
   ],
   "source": [
    "#Prompting the user to get number of sublists (rows) and number of elements in sublist (columns)\n",
    "def prompt_for_number(prompt, min_val, max_val):\n",
    "    while True:\n",
    "        value = input(prompt)\n",
    "        if value.isdigit() and min_val <= int(value) <= max_val:\n",
    "            return int(value)\n",
    "        else:\n",
    "            print(f\"Error: Please enter a number between {min_val} and {max_val}.\")\n",
    "\n",
    "#Initializing each element in the nested list with a positive integer\n",
    "def prompt_positive_number(prompt):\n",
    "    while True:\n",
    "        value = input(prompt)\n",
    "        if value.isdigit() and int(value) > 0:\n",
    "            return int(value)\n",
    "        else:\n",
    "            print(\"Error: Please enter a positive integer greater than 0.\")\n",
    "\n",
    "#Creating a nested list\n",
    "def create_nested_list(rows, cols, value):\n",
    "    return [[value] * cols for _ in range(rows)]\n",
    "\n",
    "#Running the user input prompts\n",
    "x = prompt_for_number(\"Please enter the number of sublists (between 2 and 6 inclusive): \", 2, 6)\n",
    "y = prompt_for_number(\"Please enter the number of elements (between 2 and 6 inclusive): \", 2, 6)\n",
    "element_value = prompt_positive_number(\"Please enter an initialization value: \")\n",
    "\n",
    "#Displaying the nested list\n",
    "nested_list = create_nested_list(x, y, element_value)\n",
    "print(f\"Nested list: {nested_list}\")"
   ]
  },
  {
   "cell_type": "code",
   "execution_count": null,
   "id": "54ff8170-05ac-4008-b938-64c97b75ff30",
   "metadata": {},
   "outputs": [],
   "source": []
  }
 ],
 "metadata": {
  "kernelspec": {
   "display_name": "Python [conda env:base] *",
   "language": "python",
   "name": "conda-base-py"
  },
  "language_info": {
   "codemirror_mode": {
    "name": "ipython",
    "version": 3
   },
   "file_extension": ".py",
   "mimetype": "text/x-python",
   "name": "python",
   "nbconvert_exporter": "python",
   "pygments_lexer": "ipython3",
   "version": "3.12.7"
  }
 },
 "nbformat": 4,
 "nbformat_minor": 5
}
